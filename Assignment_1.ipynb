{
 "cells": [
  {
   "cell_type": "markdown",
   "metadata": {},
   "source": [
    "###  1. We are having 3 list like this\n",
    "Colors = [“Yellow”,”Green”,”White”,”Black”]                                                                                       \n",
    "Fruits=[“Apple”,”Papaya”,”Mango”,”Orange”]                                                                                           \n",
    "Animals=[“Tiger”,”Lion”,”Deer”,”Zebra”]\n",
    "\n",
    "#### i. Write a program that asks user to enter a Color/Fruit/Animal name and it should tell which category belongs to , like its is a fruit or color or Animal\n"
   ]
  },
  {
   "cell_type": "code",
   "execution_count": 1,
   "metadata": {},
   "outputs": [
    {
     "name": "stdout",
     "output_type": "stream",
     "text": [
      "Enter a color/Fruit/Animal: Yellow\n",
      "Colors\n"
     ]
    }
   ],
   "source": [
    "Colors = [\"Yellow\",\"Green\",\"White\",\"Black\"]\n",
    "Fruits=[\"Apple\",\"Papaya\",\"Mango\",\"Orange\"]\n",
    "Animals=[\"Tiger\",\"Lion\",\"Deer\",\"Zebra\"]\n",
    "x = input(\"Enter a color/Fruit/Animal: \")\n",
    "if x in Colors:\n",
    "    print(\"Colors\")\n",
    "elif x in Fruits:\n",
    "    print(\"Fruits\")  \n",
    "elif x in Animals:\n",
    "    print(\"Animals\")\n",
    "else:\n",
    "    print(\"Not an valid input\")"
   ]
  },
  {
   "cell_type": "markdown",
   "metadata": {},
   "source": [
    "#### ii. Write a program that asks user to enter two cities and it tells you if they both are in same country or not. For example if I enter yellow and Black, it will print \"Both are colors\" but if I enter yellow and Tiger it should print \"They don't belong to same category\""
   ]
  },
  {
   "cell_type": "code",
   "execution_count": 2,
   "metadata": {},
   "outputs": [
    {
     "name": "stdout",
     "output_type": "stream",
     "text": [
      "Enter a Name: Yellow\n",
      "Enter a Name: Green\n",
      "Both are Colors!!\n"
     ]
    }
   ],
   "source": [
    "m=input(\"Enter a Name: \")\n",
    "n=input(\"Enter a Name: \")\n",
    "\n",
    "if (m in Colors) and (n in Colors):\n",
    "      print(\"Both are Colors!!\")\n",
    "elif (m in Fruits) and (n in Fruits):\n",
    "      print(\"Both are Fruits!!\")\n",
    "elif (m in Animals) and (n in Animals):\n",
    "    print(\"both are Animals\")\n",
    "else:\n",
    "    print(\"Not Same\")"
   ]
  },
  {
   "cell_type": "markdown",
   "metadata": {},
   "source": [
    "### 2.  Write a python program that can tell you if your grade score good or not . Normal Score range is 40 to 60.\n",
    "\n",
    "  i. Ask user to enter his score.                                                                                                      \n",
    "  ii. If it is below 40 to 60 range then print that score is low                                                                   \n",
    "  iii. If it is above 60 then print that it is good otherwise print that it is normal"
   ]
  },
  {
   "cell_type": "code",
   "execution_count": 3,
   "metadata": {},
   "outputs": [
    {
     "name": "stdout",
     "output_type": "stream",
     "text": [
      "Enter your Score: 57\n",
      "Your score is NORMAL\n"
     ]
    }
   ],
   "source": [
    "x = float(input(\"Enter your Score: \" ))\n",
    "\n",
    "if x < 40:\n",
    "    print(\"Your score is LOW\")\n",
    "elif x > 60:\n",
    "    print(\"Your score is GOOD\")\n",
    "else:\n",
    "    print(\"Your score is NORMAL\")"
   ]
  },
  {
   "cell_type": "markdown",
   "metadata": {},
   "source": [
    "### 3.  After appearing in exam 10 times you got this result,\n",
    "result = [\"Pass\",\"Fail\",\"Fail\",\"Pass\",\"Fail\",\"Pass\",\"Pass\",\"Fail\",\"Fail\",\"Fail\"]                                                 \n",
    "### Using for loop figure out how many times you got Pass"
   ]
  },
  {
   "cell_type": "code",
   "execution_count": 4,
   "metadata": {},
   "outputs": [
    {
     "name": "stdout",
     "output_type": "stream",
     "text": [
      "4\n"
     ]
    }
   ],
   "source": [
    "result = [\"Pass\",\"Fail\",\"Fail\",\"Pass\",\"Fail\",\"Pass\",\"Pass\",\"Fail\",\"Fail\",\"Fail\"]\n",
    "count=0\n",
    "for i in result:\n",
    "    if i == 'Pass':\n",
    "        count=count+1\n",
    "print(count)"
   ]
  },
  {
   "cell_type": "markdown",
   "metadata": {},
   "source": [
    "### 4.  Write a program that prints following shape"
   ]
  },
  {
   "cell_type": "code",
   "execution_count": 5,
   "metadata": {},
   "outputs": [
    {
     "name": "stdout",
     "output_type": "stream",
     "text": [
      "Enter the Number: 5\n",
      "*\n",
      "**\n",
      "***\n",
      "****\n",
      "*****\n",
      "****\n",
      "***\n",
      "**\n",
      "*\n",
      "\n"
     ]
    }
   ],
   "source": [
    "x =int(input(\"Enter the Number: \"))\n",
    "\n",
    "for i in range(0,x):\n",
    "    for j in range(0,i+1):\n",
    "        print(\"*\",end='')\n",
    "    print()    \n",
    "for i in range(x,0,-1):\n",
    "    for j in range(0,i-1):\n",
    "        print(\"*\",end='')\n",
    "    print()"
   ]
  },
  {
   "cell_type": "markdown",
   "metadata": {},
   "source": [
    "### 5.   Lets say you are running a 50 km race. Write a program that,\n",
    "\n",
    "Upon completing each 10 km asks you \"are you tired?\"                                                                          \n",
    "If you reply \"yes\" then it should break and print \"you didn't finish the race\"                                                    \n",
    "If you reply \"no\" then it should continue and ask \"are you tired\" on every km                                                       \n",
    "If you finish all 50 km then it should print congratulations message"
   ]
  },
  {
   "cell_type": "code",
   "execution_count": 6,
   "metadata": {},
   "outputs": [
    {
     "name": "stdout",
     "output_type": "stream",
     "text": [
      "Are you tired? no\n",
      "Are you tired? yes\n",
      "You didn't finish the race\n"
     ]
    }
   ],
   "source": [
    "Distance = 50\n",
    "for i in range(1,Distance+1):\n",
    "    if (i%10==0) and i!=50:\n",
    "        x=input(\"Are you tired? \")\n",
    "        if x==\"yes\":\n",
    "            print(\"You didn't finish the race\")\n",
    "            break\n",
    "        else:\n",
    "            continue\n",
    "    elif (i%10==0) and i==50:\n",
    "        print(\"Congratulations, you finished race successfully \")"
   ]
  },
  {
   "cell_type": "markdown",
   "metadata": {},
   "source": [
    "### 6. Write a Python program to find those numbers which are divisible by 7 and multiple of 5, between 1500 and 2700 (both included)."
   ]
  },
  {
   "cell_type": "code",
   "execution_count": 7,
   "metadata": {},
   "outputs": [
    {
     "name": "stdout",
     "output_type": "stream",
     "text": [
      "1505\n",
      "1540\n",
      "1575\n",
      "1610\n",
      "1645\n",
      "1680\n",
      "1715\n",
      "1750\n",
      "1785\n",
      "1820\n",
      "1855\n",
      "1890\n",
      "1925\n",
      "1960\n",
      "1995\n",
      "2030\n",
      "2065\n",
      "2100\n",
      "2135\n",
      "2170\n",
      "2205\n",
      "2240\n",
      "2275\n",
      "2310\n",
      "2345\n",
      "2380\n",
      "2415\n",
      "2450\n",
      "2485\n",
      "2520\n",
      "2555\n",
      "2590\n",
      "2625\n",
      "2660\n",
      "2695\n"
     ]
    }
   ],
   "source": [
    "for i in range (1499,2701):\n",
    "    if i%7==0 and i%5==0:\n",
    "        print(i)"
   ]
  },
  {
   "cell_type": "markdown",
   "metadata": {},
   "source": [
    "### 7. Print square of all numbers between 10 to 20 except even numbers"
   ]
  },
  {
   "cell_type": "code",
   "execution_count": 8,
   "metadata": {},
   "outputs": [
    {
     "name": "stdout",
     "output_type": "stream",
     "text": [
      "121\n",
      "169\n",
      "225\n",
      "289\n",
      "361\n"
     ]
    }
   ],
   "source": [
    "for i in range(10,20):\n",
    "    if i%2==0:\n",
    "        continue\n",
    "    else:\n",
    "        print(i*i)"
   ]
  },
  {
   "cell_type": "markdown",
   "metadata": {},
   "source": [
    "### 8.Your Marks for five Test (test 1 to test 5) looks like this,\n",
    "marks_list = [65, 75, 2100, 95, 83]\n",
    "\n",
    "### Write a program that asks you to enter marks and program should tell you in which test that marks occurred. If marks is not found then it should print that as well."
   ]
  },
  {
   "cell_type": "code",
   "execution_count": 9,
   "metadata": {},
   "outputs": [
    {
     "name": "stdout",
     "output_type": "stream",
     "text": [
      "Enter your marks: 45\n",
      "We have not found any test with marks 45\n"
     ]
    }
   ],
   "source": [
    "marks_list = [65, 75, 2100, 95, 83]\n",
    "l=len(marks_list)\n",
    "x=int(input(\"Enter your marks: \"))\n",
    "for i in marks_list:\n",
    "    indx=marks_list.index(i)\n",
    "    if i==x:\n",
    "        print(\"You secured marks {} Test{}\".format(x,indx+1))\n",
    "    elif indx==l-1:\n",
    "        print(\"We have not found any test with marks {}\".format(x))"
   ]
  }
 ],
 "metadata": {
  "kernelspec": {
   "display_name": "Python 3",
   "language": "python",
   "name": "python3"
  },
  "language_info": {
   "codemirror_mode": {
    "name": "ipython",
    "version": 3
   },
   "file_extension": ".py",
   "mimetype": "text/x-python",
   "name": "python",
   "nbconvert_exporter": "python",
   "pygments_lexer": "ipython3",
   "version": "3.7.4"
  }
 },
 "nbformat": 4,
 "nbformat_minor": 2
}
